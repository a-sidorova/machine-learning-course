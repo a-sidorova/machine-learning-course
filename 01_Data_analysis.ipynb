{
 "cells": [
  {
   "cell_type": "code",
   "execution_count": 2,
   "id": "7858f968",
   "metadata": {},
   "outputs": [],
   "source": [
    "import numpy as np\n",
    "import matplotlib.pyplot as plt\n",
    "%matplotlib inline \n",
    "import pandas as pd\n",
    "import seaborn as sns\n",
    "import sklearn"
   ]
  },
  {
   "cell_type": "markdown",
   "id": "5b1ca1c8",
   "metadata": {},
   "source": [
    "# Описание работы\n",
    "Измерение удовлетворенности клиентов является ключевым фактором для ведения современного бизнеса, поскольку оно может внести значительный вклад в повышение качества обслуживания. Чтобы соответствовать ожиданиям клиентов и достигать более высокого уровня качества, авиакомпаниям необходимо разработать конкретный механизм измерения удовлетворенности использования предоставленных авикомпанией услуг пассажиров. Таким образом, данная работа решает задачу классификацию удовлетворенности клиентов авиакомпаний."
   ]
  },
  {
   "cell_type": "markdown",
   "id": "53881d7a",
   "metadata": {},
   "source": [
    "## 1. Загрузка и чтение данных"
   ]
  },
  {
   "cell_type": "code",
   "execution_count": 5,
   "id": "652e27d3",
   "metadata": {},
   "outputs": [
    {
     "data": {
      "text/plain": [
       "(129880, 24)"
      ]
     },
     "execution_count": 5,
     "metadata": {},
     "output_type": "execute_result"
    }
   ],
   "source": [
    "url = \"https://github.com/a-sidorova/machine-learning-course/raw/master/airline_passenger_satisfaction.csv\"\n",
    "data_raw = pd.read_csv(url)\n",
    "data_raw.shape"
   ]
  },
  {
   "cell_type": "markdown",
   "id": "231c180c",
   "metadata": {},
   "source": [
    "Таблица содержит информацию о порядка 129 тысяч пассажиров авиаперелетов. "
   ]
  },
  {
   "cell_type": "code",
   "execution_count": 6,
   "id": "d07c1457",
   "metadata": {},
   "outputs": [
    {
     "data": {
      "text/html": [
       "<div>\n",
       "<style scoped>\n",
       "    .dataframe tbody tr th:only-of-type {\n",
       "        vertical-align: middle;\n",
       "    }\n",
       "\n",
       "    .dataframe tbody tr th {\n",
       "        vertical-align: top;\n",
       "    }\n",
       "\n",
       "    .dataframe thead th {\n",
       "        text-align: right;\n",
       "    }\n",
       "</style>\n",
       "<table border=\"1\" class=\"dataframe\">\n",
       "  <thead>\n",
       "    <tr style=\"text-align: right;\">\n",
       "      <th></th>\n",
       "      <th>Unnamed: 0</th>\n",
       "      <th>Gender</th>\n",
       "      <th>customer_type</th>\n",
       "      <th>age</th>\n",
       "      <th>type_of_travel</th>\n",
       "      <th>customer_class</th>\n",
       "      <th>flight_distance</th>\n",
       "      <th>inflight_wifi_service</th>\n",
       "      <th>departure_arrival_time_convenient</th>\n",
       "      <th>ease_of_online_booking</th>\n",
       "      <th>...</th>\n",
       "      <th>inflight_entertainment</th>\n",
       "      <th>onboard_service</th>\n",
       "      <th>leg_room_service</th>\n",
       "      <th>baggage_handling</th>\n",
       "      <th>checkin_service</th>\n",
       "      <th>inflight_service</th>\n",
       "      <th>cleanliness</th>\n",
       "      <th>departure_delay_in_minutes</th>\n",
       "      <th>arrival_delay_in_minutes</th>\n",
       "      <th>satisfaction</th>\n",
       "    </tr>\n",
       "  </thead>\n",
       "  <tbody>\n",
       "    <tr>\n",
       "      <th>0</th>\n",
       "      <td>0</td>\n",
       "      <td>Male</td>\n",
       "      <td>Loyal Customer</td>\n",
       "      <td>13</td>\n",
       "      <td>Personal Travel</td>\n",
       "      <td>Eco Plus</td>\n",
       "      <td>460</td>\n",
       "      <td>3</td>\n",
       "      <td>4</td>\n",
       "      <td>3</td>\n",
       "      <td>...</td>\n",
       "      <td>5</td>\n",
       "      <td>4</td>\n",
       "      <td>3</td>\n",
       "      <td>4</td>\n",
       "      <td>4</td>\n",
       "      <td>5</td>\n",
       "      <td>5</td>\n",
       "      <td>25</td>\n",
       "      <td>18.0</td>\n",
       "      <td>neutral or dissatisfied</td>\n",
       "    </tr>\n",
       "    <tr>\n",
       "      <th>1</th>\n",
       "      <td>1</td>\n",
       "      <td>Male</td>\n",
       "      <td>disloyal Customer</td>\n",
       "      <td>25</td>\n",
       "      <td>Business travel</td>\n",
       "      <td>Business</td>\n",
       "      <td>235</td>\n",
       "      <td>3</td>\n",
       "      <td>2</td>\n",
       "      <td>3</td>\n",
       "      <td>...</td>\n",
       "      <td>1</td>\n",
       "      <td>1</td>\n",
       "      <td>5</td>\n",
       "      <td>3</td>\n",
       "      <td>1</td>\n",
       "      <td>4</td>\n",
       "      <td>1</td>\n",
       "      <td>1</td>\n",
       "      <td>6.0</td>\n",
       "      <td>neutral or dissatisfied</td>\n",
       "    </tr>\n",
       "    <tr>\n",
       "      <th>2</th>\n",
       "      <td>2</td>\n",
       "      <td>Female</td>\n",
       "      <td>Loyal Customer</td>\n",
       "      <td>26</td>\n",
       "      <td>Business travel</td>\n",
       "      <td>Business</td>\n",
       "      <td>1142</td>\n",
       "      <td>2</td>\n",
       "      <td>2</td>\n",
       "      <td>2</td>\n",
       "      <td>...</td>\n",
       "      <td>5</td>\n",
       "      <td>4</td>\n",
       "      <td>3</td>\n",
       "      <td>4</td>\n",
       "      <td>4</td>\n",
       "      <td>4</td>\n",
       "      <td>5</td>\n",
       "      <td>0</td>\n",
       "      <td>0.0</td>\n",
       "      <td>satisfied</td>\n",
       "    </tr>\n",
       "    <tr>\n",
       "      <th>3</th>\n",
       "      <td>3</td>\n",
       "      <td>Female</td>\n",
       "      <td>Loyal Customer</td>\n",
       "      <td>25</td>\n",
       "      <td>Business travel</td>\n",
       "      <td>Business</td>\n",
       "      <td>562</td>\n",
       "      <td>2</td>\n",
       "      <td>5</td>\n",
       "      <td>5</td>\n",
       "      <td>...</td>\n",
       "      <td>2</td>\n",
       "      <td>2</td>\n",
       "      <td>5</td>\n",
       "      <td>3</td>\n",
       "      <td>1</td>\n",
       "      <td>4</td>\n",
       "      <td>2</td>\n",
       "      <td>11</td>\n",
       "      <td>9.0</td>\n",
       "      <td>neutral or dissatisfied</td>\n",
       "    </tr>\n",
       "    <tr>\n",
       "      <th>4</th>\n",
       "      <td>4</td>\n",
       "      <td>Male</td>\n",
       "      <td>Loyal Customer</td>\n",
       "      <td>61</td>\n",
       "      <td>Business travel</td>\n",
       "      <td>Business</td>\n",
       "      <td>214</td>\n",
       "      <td>3</td>\n",
       "      <td>3</td>\n",
       "      <td>3</td>\n",
       "      <td>...</td>\n",
       "      <td>3</td>\n",
       "      <td>3</td>\n",
       "      <td>4</td>\n",
       "      <td>4</td>\n",
       "      <td>3</td>\n",
       "      <td>3</td>\n",
       "      <td>3</td>\n",
       "      <td>0</td>\n",
       "      <td>0.0</td>\n",
       "      <td>satisfied</td>\n",
       "    </tr>\n",
       "  </tbody>\n",
       "</table>\n",
       "<p>5 rows × 24 columns</p>\n",
       "</div>"
      ],
      "text/plain": [
       "   Unnamed: 0  Gender      customer_type  age   type_of_travel customer_class  \\\n",
       "0           0    Male     Loyal Customer   13  Personal Travel       Eco Plus   \n",
       "1           1    Male  disloyal Customer   25  Business travel       Business   \n",
       "2           2  Female     Loyal Customer   26  Business travel       Business   \n",
       "3           3  Female     Loyal Customer   25  Business travel       Business   \n",
       "4           4    Male     Loyal Customer   61  Business travel       Business   \n",
       "\n",
       "   flight_distance  inflight_wifi_service  departure_arrival_time_convenient  \\\n",
       "0              460                      3                                  4   \n",
       "1              235                      3                                  2   \n",
       "2             1142                      2                                  2   \n",
       "3              562                      2                                  5   \n",
       "4              214                      3                                  3   \n",
       "\n",
       "   ease_of_online_booking  ...  inflight_entertainment  onboard_service  \\\n",
       "0                       3  ...                       5                4   \n",
       "1                       3  ...                       1                1   \n",
       "2                       2  ...                       5                4   \n",
       "3                       5  ...                       2                2   \n",
       "4                       3  ...                       3                3   \n",
       "\n",
       "   leg_room_service  baggage_handling  checkin_service  inflight_service  \\\n",
       "0                 3                 4                4                 5   \n",
       "1                 5                 3                1                 4   \n",
       "2                 3                 4                4                 4   \n",
       "3                 5                 3                1                 4   \n",
       "4                 4                 4                3                 3   \n",
       "\n",
       "   cleanliness  departure_delay_in_minutes  arrival_delay_in_minutes  \\\n",
       "0            5                          25                      18.0   \n",
       "1            1                           1                       6.0   \n",
       "2            5                           0                       0.0   \n",
       "3            2                          11                       9.0   \n",
       "4            3                           0                       0.0   \n",
       "\n",
       "              satisfaction  \n",
       "0  neutral or dissatisfied  \n",
       "1  neutral or dissatisfied  \n",
       "2                satisfied  \n",
       "3  neutral or dissatisfied  \n",
       "4                satisfied  \n",
       "\n",
       "[5 rows x 24 columns]"
      ]
     },
     "execution_count": 6,
     "metadata": {},
     "output_type": "execute_result"
    }
   ],
   "source": [
    "data_raw.head()"
   ]
  },
  {
   "cell_type": "markdown",
   "id": "ba20f906",
   "metadata": {},
   "source": [
    "Каждый пассажир охарактеризован 24 признаком. Среди них есть категориальные (пол, тип клиента, тип полета, класс клиента, удовлетворенность), числовые (возраст, дистанция перелета, задержка вылета и прилета) и оценки (на сколько удовлетворен клиент какой-либо услугой)."
   ]
  },
  {
   "cell_type": "markdown",
   "id": "22a61ad0",
   "metadata": {},
   "source": [
    "Рассмотрим отдельно каждый признак:\n"
   ]
  },
  {
   "cell_type": "code",
   "execution_count": 7,
   "id": "9c1aec9b",
   "metadata": {},
   "outputs": [
    {
     "name": "stdout",
     "output_type": "stream",
     "text": [
      "<class 'pandas.core.frame.DataFrame'>\n",
      "RangeIndex: 129880 entries, 0 to 129879\n",
      "Data columns (total 24 columns):\n",
      " #   Column                             Non-Null Count   Dtype  \n",
      "---  ------                             --------------   -----  \n",
      " 0   Unnamed: 0                         129880 non-null  int64  \n",
      " 1   Gender                             129880 non-null  object \n",
      " 2   customer_type                      129880 non-null  object \n",
      " 3   age                                129880 non-null  int64  \n",
      " 4   type_of_travel                     129880 non-null  object \n",
      " 5   customer_class                     129880 non-null  object \n",
      " 6   flight_distance                    129880 non-null  int64  \n",
      " 7   inflight_wifi_service              129880 non-null  int64  \n",
      " 8   departure_arrival_time_convenient  129880 non-null  int64  \n",
      " 9   ease_of_online_booking             129880 non-null  int64  \n",
      " 10  gate_location                      129880 non-null  int64  \n",
      " 11  food_and_drink                     129880 non-null  int64  \n",
      " 12  online_boarding                    129880 non-null  int64  \n",
      " 13  seat_comfort                       129880 non-null  int64  \n",
      " 14  inflight_entertainment             129880 non-null  int64  \n",
      " 15  onboard_service                    129880 non-null  int64  \n",
      " 16  leg_room_service                   129880 non-null  int64  \n",
      " 17  baggage_handling                   129880 non-null  int64  \n",
      " 18  checkin_service                    129880 non-null  int64  \n",
      " 19  inflight_service                   129880 non-null  int64  \n",
      " 20  cleanliness                        129880 non-null  int64  \n",
      " 21  departure_delay_in_minutes         129880 non-null  int64  \n",
      " 22  arrival_delay_in_minutes           129487 non-null  float64\n",
      " 23  satisfaction                       129880 non-null  object \n",
      "dtypes: float64(1), int64(18), object(5)\n",
      "memory usage: 23.8+ MB\n"
     ]
    }
   ],
   "source": [
    "data_raw.info()\n"
   ]
  },
  {
   "cell_type": "markdown",
   "id": "aa7cebad",
   "metadata": {},
   "source": [
    "1. Unnamed - ID пассажира - числовой\n",
    "2. Gender - пол пассажира - категориальный (male, female)\n",
    "3. cutomer_type - тип клиента - категориальный (лояльный или нет)\n",
    "4. type_of_travel - тип поездки - категориальный (личная, бизнес)\n",
    "5. customer_class - класс клиента - категориальный (эконом, эконом+, бизнес)\n",
    "6. flight_distance - дистанция перелета в миллях - числовой\n",
    "7. inflight_wifi_service - качество Wi-Fi во время полета - категориальный (1-5)\n",
    "8. departure_arrival_time_convenient - удобное время вылета и прибытия - категориальный (1-5)\n",
    "9. ease_of_online_booking - простота онлайн-бронирования - категориальный (1-5)\n",
    "10. gate_location - удобство расположения выхода - категориальный (1-5)\n",
    "11. food_and_drink - качество еды - категориальный (1-5)\n",
    "12. online_boarding - удобство онлайн регистрации - категориальный (1-5)\n",
    "13. seat_comfort - комфорт сидения - категориальный (1-5)\n",
    "14. inflight_entertainment - качество разлвечений во время полета - категориальный (1-5)\n",
    "15. onboard_service - качество услуг на борту - категориальный (1-5)\n",
    "16. leg_room_service\n",
    "17. baggage_handling - качество перевоза багажа - категориальный (1-5)\n",
    "18. checkin_service - качество работы службы регистрации - категориальный (1-5)\n",
    "19. inflight_service - качество работы бортовой службы - категориальный (1-5)\n",
    "20. cleanliness - качество чистоты на борту - категориальный (1-5)\n",
    "21. departure_delay_in_minutes - задержка вылета рейса в минутах - числовой\n",
    "22. arrival_delay_in_minutes - задержка прилета рейса в минутах - числовой\n",
    "23. satisfaction - удовлетворенность клиента - категориальный (удовлетворен, нейтрален/неудовлетворен)"
   ]
  },
  {
   "cell_type": "markdown",
   "id": "375d6cf7",
   "metadata": {},
   "source": [
    "Заменим тип Object категориальный признаков на специальный тип, который предназначен для хранения категориальных значений:"
   ]
  },
  {
   "cell_type": "code",
   "execution_count": 11,
   "id": "66a74a0e",
   "metadata": {},
   "outputs": [],
   "source": [
    "data_raw['Gender'] = data_raw['Gender'].astype('category')\n",
    "data_raw['customer_type'] = data_raw['customer_type'].astype('category')\n",
    "data_raw['type_of_travel'] = data_raw['type_of_travel'].astype('category')\n",
    "data_raw['customer_class'] = data_raw['customer_class'].astype('category')\n",
    "data_raw['satisfaction'] = data_raw['satisfaction'].astype('category')\n"
   ]
  },
  {
   "cell_type": "code",
   "execution_count": 12,
   "id": "093a3527",
   "metadata": {},
   "outputs": [
    {
     "data": {
      "text/plain": [
       "CategoricalDtype(categories=['Female', 'Male'], ordered=False)"
      ]
     },
     "execution_count": 12,
     "metadata": {},
     "output_type": "execute_result"
    }
   ],
   "source": [
    "data_raw['Gender'].dtype"
   ]
  },
  {
   "cell_type": "code",
   "execution_count": 15,
   "id": "eeb57e56",
   "metadata": {},
   "outputs": [
    {
     "data": {
      "text/plain": [
       "CategoricalDtype(categories=['Loyal Customer', 'disloyal Customer'], ordered=False)"
      ]
     },
     "execution_count": 15,
     "metadata": {},
     "output_type": "execute_result"
    }
   ],
   "source": [
    "data_raw['customer_type'].dtype"
   ]
  },
  {
   "cell_type": "code",
   "execution_count": 16,
   "id": "44f23a98",
   "metadata": {},
   "outputs": [
    {
     "data": {
      "text/plain": [
       "CategoricalDtype(categories=['Business travel', 'Personal Travel'], ordered=False)"
      ]
     },
     "execution_count": 16,
     "metadata": {},
     "output_type": "execute_result"
    }
   ],
   "source": [
    "data_raw['type_of_travel'].dtype"
   ]
  },
  {
   "cell_type": "code",
   "execution_count": 17,
   "id": "faeaeeea",
   "metadata": {},
   "outputs": [
    {
     "data": {
      "text/plain": [
       "CategoricalDtype(categories=['Business', 'Eco', 'Eco Plus'], ordered=False)"
      ]
     },
     "execution_count": 17,
     "metadata": {},
     "output_type": "execute_result"
    }
   ],
   "source": [
    "data_raw['customer_class'].dtype"
   ]
  },
  {
   "cell_type": "code",
   "execution_count": 18,
   "id": "819ae0a4",
   "metadata": {},
   "outputs": [
    {
     "data": {
      "text/plain": [
       "CategoricalDtype(categories=['neutral or dissatisfied', 'satisfied'], ordered=False)"
      ]
     },
     "execution_count": 18,
     "metadata": {},
     "output_type": "execute_result"
    }
   ],
   "source": [
    "data_raw['satisfaction'].dtype"
   ]
  },
  {
   "cell_type": "markdown",
   "id": "3126fdb6",
   "metadata": {},
   "source": []
  }
 ],
 "metadata": {
  "kernelspec": {
   "display_name": "Python 3 (ipykernel)",
   "language": "python",
   "name": "python3"
  },
  "language_info": {
   "codemirror_mode": {
    "name": "ipython",
    "version": 3
   },
   "file_extension": ".py",
   "mimetype": "text/x-python",
   "name": "python",
   "nbconvert_exporter": "python",
   "pygments_lexer": "ipython3",
   "version": "3.7.0"
  }
 },
 "nbformat": 4,
 "nbformat_minor": 5
}
